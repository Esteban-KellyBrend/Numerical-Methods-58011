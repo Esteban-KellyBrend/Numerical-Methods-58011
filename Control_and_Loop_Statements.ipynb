{
  "nbformat": 4,
  "nbformat_minor": 0,
  "metadata": {
    "colab": {
      "name": "Control and Loop Statements.ipynb",
      "provenance": [],
      "collapsed_sections": [],
      "authorship_tag": "ABX9TyPye4iOAEuXQFTsTZo/wAlE",
      "include_colab_link": true
    },
    "kernelspec": {
      "name": "python3",
      "display_name": "Python 3"
    },
    "language_info": {
      "name": "python"
    }
  },
  "cells": [
    {
      "cell_type": "markdown",
      "metadata": {
        "id": "view-in-github",
        "colab_type": "text"
      },
      "source": [
        "<a href=\"https://colab.research.google.com/github/Kel24/Numerical-Methods-58011/blob/main/Control_and_Loop_Statements.ipynb\" target=\"_parent\"><img src=\"https://colab.research.google.com/assets/colab-badge.svg\" alt=\"Open In Colab\"/></a>"
      ]
    },
    {
      "cell_type": "markdown",
      "source": [
        "##If Statement"
      ],
      "metadata": {
        "id": "KEnIwrdwbpdO"
      }
    },
    {
      "cell_type": "code",
      "source": [
        "a = 100\n",
        "b = 100\n",
        "\n",
        "if b>a:\n",
        "  print(\"b is greater than a\")"
      ],
      "metadata": {
        "id": "pfoULpIPbwVB"
      },
      "execution_count": null,
      "outputs": []
    },
    {
      "cell_type": "markdown",
      "source": [
        "##Elif Statement"
      ],
      "metadata": {
        "id": "ChS96VS_cITi"
      }
    },
    {
      "cell_type": "code",
      "source": [
        "a = 12\n",
        "b= 100\n",
        "\n",
        "if b>a:\n",
        "  print(\"b is greater than a\")\n",
        "elif a>b:\n",
        "    print(\"a is greater than b\")"
      ],
      "metadata": {
        "colab": {
          "base_uri": "https://localhost:8080/"
        },
        "id": "7SRcBvJucsSj",
        "outputId": "bde7545f-bec2-45a6-9144-2e5ca36e78b4"
      },
      "execution_count": null,
      "outputs": [
        {
          "output_type": "stream",
          "name": "stdout",
          "text": [
            "b is greater than a\n"
          ]
        }
      ]
    },
    {
      "cell_type": "markdown",
      "source": [
        "##Else Statement"
      ],
      "metadata": {
        "id": "NudMa-wvdXPL"
      }
    },
    {
      "cell_type": "code",
      "source": [
        "if b>a:\n",
        "  print(\"b is greater than a\")\n",
        "elif a>b:\n",
        "    print(\"a is greater than b\")\n",
        "else:\n",
        "  print(\"a is equal to b\")"
      ],
      "metadata": {
        "colab": {
          "base_uri": "https://localhost:8080/"
        },
        "id": "LNm_wgukdcGE",
        "outputId": "7f6f852b-0638-4bd6-d5a2-a6009971fdc1"
      },
      "execution_count": null,
      "outputs": [
        {
          "output_type": "stream",
          "name": "stdout",
          "text": [
            "a is equal to b\n"
          ]
        }
      ]
    },
    {
      "cell_type": "markdown",
      "source": [
        "##Short Hand If Statement"
      ],
      "metadata": {
        "id": "0gjBmshaeBoQ"
      }
    },
    {
      "cell_type": "code",
      "source": [
        "a = 12\n",
        "b = 100\n",
        "if b>a: print(\"b is greater than a\")"
      ],
      "metadata": {
        "colab": {
          "base_uri": "https://localhost:8080/"
        },
        "id": "NXDUI4rQeFwH",
        "outputId": "a3e28ce9-8f17-4697-f502-e883d599ad69"
      },
      "execution_count": null,
      "outputs": [
        {
          "output_type": "stream",
          "name": "stdout",
          "text": [
            "b is greater than a\n"
          ]
        }
      ]
    },
    {
      "cell_type": "markdown",
      "source": [
        "##Short Hand If.. Else Statement"
      ],
      "metadata": {
        "id": "_0R5n9DAeeA8"
      }
    },
    {
      "cell_type": "code",
      "source": [
        "c = 35\n",
        "d = 40\n",
        "\n",
        "print(\"c is greater than d\") if c>d else print (\"d is greater than c\")"
      ],
      "metadata": {
        "colab": {
          "base_uri": "https://localhost:8080/"
        },
        "id": "9UIIOgbwei29",
        "outputId": "abd3a963-5124-4ba0-feb0-1b478369f73b"
      },
      "execution_count": null,
      "outputs": [
        {
          "output_type": "stream",
          "name": "stdout",
          "text": [
            "d is greater than c\n"
          ]
        }
      ]
    },
    {
      "cell_type": "markdown",
      "source": [
        "##And logic - if both statements or operands are true"
      ],
      "metadata": {
        "id": "hZSCegp4feaI"
      }
    },
    {
      "cell_type": "code",
      "source": [
        "c = 35\n",
        "d = 40\n",
        "e = 30\n",
        "\n",
        "if d>c and c>e:\n",
        "  print(\"Both condition must be True\")\n",
        " "
      ],
      "metadata": {
        "colab": {
          "base_uri": "https://localhost:8080/"
        },
        "id": "4AoNVlcJfjt5",
        "outputId": "8052b5d2-3cda-4f4b-c3ba-81a528fab91f"
      },
      "execution_count": null,
      "outputs": [
        {
          "output_type": "stream",
          "name": "stdout",
          "text": [
            "Both condition must be True\n"
          ]
        }
      ]
    },
    {
      "cell_type": "markdown",
      "source": [
        "##Or logic - if one the operands is True"
      ],
      "metadata": {
        "id": "8dSkBlijgA21"
      }
    },
    {
      "cell_type": "code",
      "source": [
        "if d>c or e>c:\n",
        "  print(\"If one of the two operands is True\")"
      ],
      "metadata": {
        "colab": {
          "base_uri": "https://localhost:8080/"
        },
        "id": "zTi-Uo-DgF5_",
        "outputId": "801486e8-7fa7-4dd2-cbef-e88bea65d3a5"
      },
      "execution_count": null,
      "outputs": [
        {
          "output_type": "stream",
          "name": "stdout",
          "text": [
            "If one of the two operands is True\n"
          ]
        }
      ]
    },
    {
      "cell_type": "markdown",
      "source": [
        "##Nested If"
      ],
      "metadata": {
        "id": "EzMgkvugg9PD"
      }
    },
    {
      "cell_type": "code",
      "source": [
        "x = int(input())\n",
        "\n",
        "if x>10:\n",
        "  print(\"x is above 10\")\n",
        "  if x>20:\n",
        "    print(\"x is above 20\")\n",
        "    if x>30:\n",
        "      print(\"x is above 30\")\n",
        "      if x>40:\n",
        "        print(\"x is above 40\")\n",
        "      else:\n",
        "          print(\"x is not above 40\")\n",
        "    else:\n",
        "      print(\"is is not above 30\")\n",
        "  else:\n",
        "    print(\"x is not above 20\")"
      ],
      "metadata": {
        "colab": {
          "base_uri": "https://localhost:8080/"
        },
        "id": "vxnv1G5tg_9D",
        "outputId": "403476fe-da16-41fb-e24c-f14c3e529e18"
      },
      "execution_count": null,
      "outputs": [
        {
          "output_type": "stream",
          "name": "stdout",
          "text": [
            "45\n",
            "x is above 10\n",
            "x is above 20\n",
            "x is above 30\n",
            "x is above 40\n"
          ]
        }
      ]
    },
    {
      "cell_type": "markdown",
      "source": [
        "##Application 1 - Write a program that determines if the input age is qualified to vote or not. The qualifying is 18 years old and above"
      ],
      "metadata": {
        "id": "qf_tp_0Gimgl"
      }
    },
    {
      "cell_type": "code",
      "source": [
        "age = int(input())\n",
        "\n",
        "if age >=18:\n",
        "  print(\"You are qualified to vote\")\n",
        "else:\n",
        "  print(\"You are not qualified to vote\")"
      ],
      "metadata": {
        "colab": {
          "base_uri": "https://localhost:8080/"
        },
        "id": "YHlLrud_i-iY",
        "outputId": "7c970a1f-c7a0-465f-9711-2239bd8b1a63"
      },
      "execution_count": null,
      "outputs": [
        {
          "output_type": "stream",
          "name": "stdout",
          "text": [
            "16\n",
            "You are not qualified to vote\n"
          ]
        }
      ]
    },
    {
      "cell_type": "markdown",
      "source": [
        "##Application 2 - Write a program that determines if the input number is POSITIVE, NEGATIVE, or ZERO"
      ],
      "metadata": {
        "id": "XPNLHh3cjpZI"
      }
    },
    {
      "cell_type": "code",
      "source": [
        "k = int(input(\"Enter a number:\"))\n",
        "\n",
        "if k>0:\n",
        "  print(\"Postive\")\n",
        "elif k<0:\n",
        "  print(\"Negative\")\n",
        "else:\n",
        "  print(\"Zero\")\n"
      ],
      "metadata": {
        "id": "gUN1SXo7j9cy",
        "colab": {
          "base_uri": "https://localhost:8080/"
        },
        "outputId": "cc4abc20-4b03-4007-f70d-e47e6ebe50e2"
      },
      "execution_count": null,
      "outputs": [
        {
          "output_type": "stream",
          "name": "stdout",
          "text": [
            "Enter a number:-60\n",
            "Negative\n"
          ]
        }
      ]
    },
    {
      "cell_type": "markdown",
      "source": [
        "##For Loop Statement"
      ],
      "metadata": {
        "id": "9PJSeognkNtk"
      }
    },
    {
      "cell_type": "code",
      "source": [
        "week = [\"Sunday\",\"Monday\",\"Tuesday\",\"Wednesday\",\"Thursday\",\"Friday\",\"Saturday\"]\n",
        "\n",
        "for x in week:\n",
        "  print(x)"
      ],
      "metadata": {
        "colab": {
          "base_uri": "https://localhost:8080/"
        },
        "id": "PbwXlhIekRSq",
        "outputId": "84aed3ca-3063-4a6b-e6c8-065d654211e7"
      },
      "execution_count": null,
      "outputs": [
        {
          "output_type": "stream",
          "name": "stdout",
          "text": [
            "Sunday\n",
            "Monday\n",
            "Tuesday\n",
            "Wednesday\n",
            "Thursday\n",
            "Friday\n",
            "Saturday\n"
          ]
        }
      ]
    },
    {
      "cell_type": "markdown",
      "source": [
        "##The break statement"
      ],
      "metadata": {
        "id": "h8do7ZqIlISA"
      }
    },
    {
      "cell_type": "code",
      "source": [
        "for x in week:\n",
        "  print(x)\n",
        "\n",
        "  if x == \"Thursday\":\n",
        "    break"
      ],
      "metadata": {
        "colab": {
          "base_uri": "https://localhost:8080/"
        },
        "id": "gqOZUtb_lK5H",
        "outputId": "dbaa6160-32e6-4e57-c339-a569a1620e5c"
      },
      "execution_count": null,
      "outputs": [
        {
          "output_type": "stream",
          "name": "stdout",
          "text": [
            "Sunday\n",
            "Monday\n",
            "Tuesday\n",
            "Wednesday\n",
            "Thursday\n"
          ]
        }
      ]
    },
    {
      "cell_type": "markdown",
      "source": [
        "##While Loop"
      ],
      "metadata": {
        "id": "08I3Q7FQloDs"
      }
    },
    {
      "cell_type": "code",
      "source": [
        "y = 3\n",
        "\n",
        "while y<6:\n",
        " print(y)\n",
        " if y == 3:\n",
        "   break\n",
        " y+=1 #same as y = y + 1\n"
      ],
      "metadata": {
        "colab": {
          "base_uri": "https://localhost:8080/"
        },
        "id": "GY6VoqSJlqSO",
        "outputId": "6a58c400-eea1-4edf-eefb-fc0d6bfb04eb"
      },
      "execution_count": 1,
      "outputs": [
        {
          "output_type": "stream",
          "name": "stdout",
          "text": [
            "3\n"
          ]
        }
      ]
    }
  ]
}